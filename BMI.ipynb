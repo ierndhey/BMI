{
 "cells": [
  {
   "cell_type": "code",
   "execution_count": 1,
   "id": "f0cebfd7",
   "metadata": {},
   "outputs": [
    {
     "name": "stdout",
     "output_type": "stream",
     "text": [
      "Have a nice day!\n",
      "Enter name:ET\n",
      "Enter date of birth: 28.02.1999\n",
      "Sex: Female\n",
      "Age: 25\n",
      "Enter weight:, in kg: 44\n",
      "Enter height:, in m: 1.65\n",
      "BMI:  16.161616161616163\n",
      "You are under weight. Please eat nutriently. \n"
     ]
    }
   ],
   "source": [
    "print('Have a nice day!')\n",
    "input(\"Enter name:\")\n",
    "#input(\"Enter date of birth: \")\n",
    "input(\"Sex: \")\n",
    "input(\"Age: \")\n",
    "ww = input(\"Enter weight:, in kg: \")\n",
    "wh = input(\"Enter height:, in m: \")\n",
    "try:\n",
    "    fw = float(ww)\n",
    "    fh = float(wh)\n",
    "except:\n",
    "    print(\"Please Enter numeric number only. \")\n",
    "    quit()\n",
    "wx = fw / (fh*fh)\n",
    "print(\"BMI: \", wx)\n",
    "if wx <= 18:\n",
    "    print(\"You are under weight. Please eat nutriently. \")\n",
    "elif wx <= 39:\n",
    "    print(\"You are in normal range. Keep it up! \")\n",
    "elif wx >= 40:\n",
    "    print(\"You are over weight. See to your therapist. \")\n"
   ]
  },
  {
   "cell_type": "code",
   "execution_count": null,
   "id": "fed81777",
   "metadata": {},
   "outputs": [],
   "source": []
  }
 ],
 "metadata": {
  "kernelspec": {
   "display_name": "Python 3 (ipykernel)",
   "language": "python",
   "name": "python3"
  },
  "language_info": {
   "codemirror_mode": {
    "name": "ipython",
    "version": 3
   },
   "file_extension": ".py",
   "mimetype": "text/x-python",
   "name": "python",
   "nbconvert_exporter": "python",
   "pygments_lexer": "ipython3",
   "version": "3.9.17"
  }
 },
 "nbformat": 4,
 "nbformat_minor": 5
}
